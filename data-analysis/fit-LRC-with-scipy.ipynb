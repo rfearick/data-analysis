{
 "cells": [
  {
   "cell_type": "markdown",
   "metadata": {},
   "source": [
    "Curve Fitting: Fitting a LRC resonance curve to data\n",
    "====================================================\n",
    "\n",
    "Introduction\n",
    "------------\n",
    "\n",
    "In experimental physics we often have a set of data and a model of the data, \n",
    "in the form of\n",
    "some function. Parameters of the model can be obtained by matching the model\n",
    "to the data. In modern physics this is done by adjusting the parameters of the model\n",
    "to minimise some statistic. This usually requires a computer program, since \n",
    "the dependence of the model on its parameters is seldom linear, or solvable analytically.\n",
    "\n",
    "This process is usually referred to as \"curve-fitting\", and the statistic\n",
    "to be determined is a \"goodness of fit\" value. (This is equivalent, \n",
    "under some conditions, to maximising the likelihood of the model).\n",
    "\n",
    "\n",
    "In the series $LRC$ circuit, the response $V_R/V_0$ may be measured as a function of frequency $f$, where $V_R$ is the amplitude\n",
    "of the voltage across the resistor and $V_0$ is the amplitude of the voltage across the whole circuit (i.e. the applied voltage).\n",
    "\n",
    "The theory of the driven oscillator tells us that the expected response is\n",
    "$$\n",
    "\\left|\\frac{V_R}{V_0}\\right|=\\frac{R}{R_T}\\frac{1}{\\sqrt{1+Q^2\\left(\\frac{f}{f_0}-\\frac{f_0}{f}\\right)^2}}\n",
    "$$\n",
    "Here, $R$ is the value of the resistor, $R_T=R+R_X$ is the total resistance in the circuit ($R_X$ is mainly the resistance of the inductor at frequency $f$), $f_0$ is the resonance frequency and Q is the quality factor of the circuit.\n",
    "\n",
    "The value of the inductance can be obtained from\n",
    "$$\n",
    "L=\\frac{R_TQ}{2\\pi f_0}\n",
    "$$\n",
    "\n",
    "What is measured is $V_0$ and its associated uncertainty $\\delta V$, and at each frequency the voltage $V_R$ and its uncertainty $u$.\n",
    "\n",
    "We fit the response function to the data to obtain $R_T$, $Q$ and $f_0$; then we can compute $L$ and its uncertainty.\n",
    "\n",
    "The uncertainty in $|V_R/V|$ depends on the uncertainties of both quantities. Propagation of uncertainties yields\n",
    "$$\n",
    "u_{\\text{tot}}=\\frac{1}{V_0}\\sqrt{u^2+\\delta V^2\\frac{V_R^2}{V_0^2}}=\\frac{1}{V_0}\\sqrt{u^2+\\epsilon^2 V_R^2}\n",
    "$$\n",
    "\n",
    "Note that $\\delta V/V_0$ is a constant, say $\\epsilon$.\n",
    "\n",
    "The fitting program\n",
    "-------------------\n",
    "\n",
    "Fitting a curve to data is usually done by adjusting a set of parameters that characterise the curve in order \n",
    "to minimise a goodness of fit variable. A typical goodness of fit variable is the \"chi square\" value,\n",
    "$$\n",
    "\\chi^2=\\sum_{i=1}^N\\frac{(y_i-f(x_i;p))^2}{u_i^2}\n",
    "$$\n",
    "where $i$ runs over the data points, $y_i$ is the value of the data at $x_i$ and $f(x_i;p)$ is the\n",
    "curve value which depends on $x_i$ and a set of parameters $\\{p\\}$. The data points are weighted by the\n",
    "uncertainty $u_i$. You will notice that the sum of the squares of the residuals $y_i-f(x_i;p)$ is minimised;\n",
    "the procedure is known as a weighted least-squares fit.  Most functions are not linear in the parameters.\n",
    "No simple solution of the problem is known and the parameters must be adjusted iteratively in order to converge to a minimum.\n",
    "This minimum might not be a global minimum, so a good set of starting parameters helps; a hand-drawn graph might help\n",
    "in obtaining these. The scheme we will use in order to minimise the chi squared is the Levenberg-Marquard algorithm.\n",
    "\n",
    "A detailed explanation of what this does and how to obtain and interpret the uncertainties is beyond the scope of these\n",
    "notes. You are directed to a reference you should get to know, Numerical Recipes, *Press, Teukolsky, Vetterling, Flannery*,\n",
    "Cambridge University Press.\n",
    "\n",
    "In this notebook, we use `pylab` to plot and `curve_fit` from `scipy`, an implementation of the L-M algorithm,  to do the fit.\n",
    "\n",
    "This is also a tutorial on the use of `numpy` and `matplotlib`."
   ]
  },
  {
   "cell_type": "code",
   "execution_count": 3,
   "metadata": {
    "collapsed": false
   },
   "outputs": [],
   "source": [
    "import numpy as np\n",
    "import matplotlib.pyplot as plt\n",
    "from scipy.optimize import curve_fit\n",
    "# convenience ...\n",
    "sqrt=np.sqrt\n",
    "pi=np.pi"
   ]
  },
  {
   "cell_type": "markdown",
   "metadata": {},
   "source": [
    "For convenience, we enter the data into the code"
   ]
  },
  {
   "cell_type": "code",
   "execution_count": 4,
   "metadata": {
    "collapsed": false
   },
   "outputs": [],
   "source": [
    "#  data from LRC circuit measurement: [frequency, amplitude, uncertainty]\n",
    "data=np.array([\n",
    "    [ 2653, 1.08, 0.01 ],\n",
    "    [ 2968, 1.28, 0.02 ],\n",
    "    [ 3633, 1.92, 0.02 ],\n",
    "    [ 4169, 2.86, 0.02 ],\n",
    "    [ 4475, 3.70, 0.02 ],\n",
    "    [ 4768, 4.90, 0.05 ],\n",
    "    [ 5002, 6.05, 0.05 ],\n",
    "    [ 5277, 7.45, 0.05 ],\n",
    "    [ 5561, 7.80, 0.2 ],\n",
    "    [ 5765, 7.00, 0.05 ],\n",
    "    [ 6117, 5.55, 0.05 ],\n",
    "    [ 6391, 4.55, 0.05 ],\n",
    "    [ 6696, 3.76, 0.02 ],\n",
    "    [ 7189, 2.95, 0.02 ],\n",
    "    [ 7916, 2.24, 0.02 ],\n",
    "    [ 8779, 1.75, 0.02 ],\n",
    "    [ 9681, 1.45, 0.02 ],\n",
    "    [ 10284, 1.27, 0.02 ]\n",
    "    ])\n",
    "# numpy allows us to pull out rows from the array, so we must transpose the data \n",
    "freq,vr,dvr=data.T\n",
    "\n",
    "# uncertainty calculation\n",
    "v0=10.0     # input to circuit\n",
    "epsilon=0.05 # relative uncertainty in v0\n",
    "uvr=sqrt(dvr*dvr+vr*vr*epsilon**2)/v0 #uncertainty in Vr"
   ]
  },
  {
   "cell_type": "markdown",
   "metadata": {},
   "source": [
    "Define the LRC resonance function. This is a function of frequency, and depends on some parameters.\n",
    "We will fit this to the data."
   ]
  },
  {
   "cell_type": "code",
   "execution_count": 6,
   "metadata": {
    "collapsed": false
   },
   "outputs": [],
   "source": [
    "# define function to be fitted\n",
    "def resonance(f,pR0,pf0,pQ):\n",
    "    R=214.0\n",
    "    return (R/pR0)/sqrt(1.0+pQ**2*(f/pf0-pf0/f)**2)"
   ]
  },
  {
   "cell_type": "markdown",
   "metadata": {},
   "source": [
    "Now we define some initial values for the fit parameters. We will pass these to the fit routine in a list `p`. We will also accumulate the parameter names in a list which we will use when we output the results."
   ]
  },
  {
   "cell_type": "code",
   "execution_count": 7,
   "metadata": {
    "collapsed": false
   },
   "outputs": [],
   "source": [
    "# the fit parameters: some starting values\n",
    "R0=400.0\n",
    "f0=4000.0\n",
    "Q=1.0\n",
    "\n",
    "p=[R0,f0,Q]\n",
    "name=[\"R\",\"f0\",\"Q\"]"
   ]
  },
  {
   "cell_type": "markdown",
   "metadata": {},
   "source": [
    "We will plot the starting position to show how well, or badly, our initial guess of the parameters worked. So we\n",
    "define a set of points for plotting the function and keep a copy of the initial resonance curve."
   ]
  },
  {
   "cell_type": "code",
   "execution_count": 9,
   "metadata": {
    "collapsed": false
   },
   "outputs": [],
   "source": [
    "# for theory plot we need some frequencies\n",
    "freqs=np.linspace(2000.0,11000.0,100)\n",
    "initialplot=resonance(freqs,*p)\n",
    "#print(p)"
   ]
  },
  {
   "cell_type": "markdown",
   "metadata": {},
   "source": [
    "Now we use the Levenberg-Marquardt routine from `scipy` to do the fit. This returns some useful data:\n",
    "* p2:   The final set of fit parameters\n",
    "* cov:  An estimate of the covariance matrix"
   ]
  },
  {
   "cell_type": "code",
   "execution_count": 10,
   "metadata": {
    "collapsed": false
   },
   "outputs": [],
   "source": [
    "p2,cov=curve_fit(resonance, freq, vr/v0, p, sigma=uvr )#, absolute_sigma=True)\n",
    "#print(p2)"
   ]
  },
  {
   "cell_type": "markdown",
   "metadata": {},
   "source": [
    "The goodness of fit is defined via the $\\chi^2$ value (known as the chi squared). We can use this and the covariance matrix to estimate the uncertainties in the parameters. This procedure is described in Numerical Recipes. \n",
    "\n",
    "Note that in this case, there is a strong (anti-)correlation between the variables $R_T$ and $Q$. If we calculate $L$ using these,\n",
    "we must use the full covariance matrix in calculating the uncertainty in $L$, rather than just the diagonal elements.\n",
    "It makes quite a difference.\n",
    "\n",
    "Much of the code below is independent of the particular system being modelled, so you can use it in your own programs.  "
   ]
  },
  {
   "cell_type": "code",
   "execution_count": 11,
   "metadata": {
    "collapsed": false
   },
   "outputs": [
    {
     "name": "stdout",
     "output_type": "stream",
     "text": [
      "Converged with chi squared  1.0862074498229717\n",
      "degrees of freedom, dof  15\n",
      "RMS of residuals (i.e. sqrt(chisq/dof))  0.2690981790874812\n",
      "Reduced chisq (i.e. variance of residuals)  0.0724138299881981\n",
      "\n",
      "Fitted parameters at minimum, with 68% C.I.:\n",
      " 0          R   273.420928 +/-   2.197093\n",
      " 1         f0  5486.691971 +/-   5.592488\n",
      " 2          Q     4.530963 +/-   0.047889\n",
      "\n",
      "Correlation matrix\n",
      "                        R        f0         Q\n",
      "         R  1.000000\n",
      "        f0  0.023328  1.000000\n",
      "         Q -0.914117  0.006076  1.000000\n",
      "\n",
      "L 0.035936174878856086 +/- 0.00047852870808211885   (diagonal elements)\n",
      "L 0.035936174878856086 +/- 0.00017068508419968716   (full covariance matrix)\n"
     ]
    }
   ],
   "source": [
    "# calculate final chi square\n",
    "ymin=(vr/v0-resonance(freq, *p2))/uvr\n",
    "chisq=np.sum(ymin*ymin)\n",
    "\n",
    "dof=len(freq)-len(p)\n",
    "# chisq, sqrt(chisq/dof) agrees with gnuplot\n",
    "print( \"Converged with chi squared \",chisq)\n",
    "print( \"degrees of freedom, dof \", dof)\n",
    "print( \"RMS of residuals (i.e. sqrt(chisq/dof)) \", sqrt(chisq/dof))\n",
    "print (\"Reduced chisq (i.e. variance of residuals) \", chisq/dof)\n",
    "print()\n",
    "\n",
    "# uncertainties are calculated as per gnuplot, \"fixing\" the result\n",
    "# for non unit values of the reduced chisq.\n",
    "# values at min match gnuplot\n",
    "print( \"Fitted parameters at minimum, with 68% C.I.:\")\n",
    "for i,pmin in enumerate(p2):\n",
    "    print( \"%2i %10s %12f +/- %10f\"%(i,name[i],pmin,sqrt(cov[i,i])))#*sqrt(chisq/dof))\n",
    "print()\n",
    "\n",
    "print( \"Correlation matrix\")\n",
    "# correlation matrix close to gnuplot\n",
    "print( \"               \",end='')\n",
    "for i in range(len(p)): print( \"%10s\"%(name[i],),end='')\n",
    "print()\n",
    "for i in range(len(p2)):\n",
    "    print( \"%10s\"%name[i],end='')\n",
    "    for j in range(i+1):\n",
    "        print(\"%10f\"%(cov[i,j]/sqrt(cov[i,i]*cov[j,j]),),end='')\n",
    "    print()\n",
    "#cov=cov*(chisq/dof)\n",
    "ap2=np.array(p2)\n",
    "partials=np.outer(ap2,ap2)\n",
    "#print partials\n",
    "#print cov/partials\n",
    "L=p2[0]*p2[2]/(2.0*np.pi*p2[1])\n",
    "dL=L*np.sqrt(cov[0,0]/p2[0]**2+cov[1,1]/p2[1]**2+cov[2,2]/p2[2]**2)\n",
    "dLfull=L*np.sqrt(np.sum(cov/partials))\n",
    "print()\n",
    "print( \"L\", L, \"+/-\", dL, \"  (diagonal elements)\")\n",
    "print( \"L\", L, \"+/-\", dLfull, \"  (full covariance matrix)\"  )"
   ]
  },
  {
   "cell_type": "markdown",
   "metadata": {},
   "source": [
    "Now we just have to plot the results. This is always a useful check to see if the fit \"looks good\"."
   ]
  },
  {
   "cell_type": "code",
   "execution_count": 12,
   "metadata": {
    "collapsed": false
   },
   "outputs": [
    {
     "data": {
      "image/png": "[encoded data removed]",
      "text/plain": [
       "<matplotlib.figure.Figure at 0x150983c470>"
      ]
     },
     "metadata": {},
     "output_type": "display_data"
    }
   ],
   "source": [
    "# Plot\n",
    "\n",
    "# plot data\n",
    "plt.errorbar(freq, vr/v0, yerr=uvr, fmt='r+', label=\"Data\")\n",
    "# plot fit\n",
    "plt.plot(freqs, initialplot, 'g-', label=\"Start\")\n",
    "plt.plot(freqs, resonance(freqs,*p2), 'b-', label=\"Fit\")\n",
    "plt.xlabel(\"Frequency [Hz]\")\n",
    "plt.ylabel(\"Relative amplitude\")\n",
    "#legend((\"data\",\"fit\"))\n",
    "plt.legend()\n",
    "plt.show()"
   ]
  },
  {
   "cell_type": "markdown",
   "metadata": {},
   "source": [
    "How do we interpret these results?\n",
    "\n",
    "The fitted parameters are given with their standard uncertainties, assuming that the other parameters are fixed. These uncertainties\n",
    "are only good estimates if the parameters are uncorrelated. In general, a more sophisticated approach is needed to evaluate reliable\n",
    "uncertainties. But these are a good start.\n",
    "\n",
    "The correlation matrix tells us how one parameter varies with another. The values are in $-1\\le C\\le 1$.\n",
    "We see for instance that R and Q are strongly negatively correlated. Thus if R is increased, Q must decrease to compensate.\n",
    "Care has to be used in using these uncertainties in propagation."
   ]
  },
  {
   "cell_type": "markdown",
   "metadata": {},
   "source": [
    "---"
   ]
  },
  {
   "cell_type": "markdown",
   "metadata": {},
   "source": [
    "Monte Carlo methods for confidence limits\n",
    "=========================================\n",
    "\n",
    "Monte Carlo methods permit extraction of confidence limits on measured parameters\n",
    "by sampling data sets from a synthetic distribution.\n",
    "\n",
    "The Bootstrap method\n",
    "--------------------\n",
    "\n",
    "For the bootstrap method  we just draw $N$ sets of $N$ points from the existing data set, with replacement (points can be duplicated!), and get\n",
    "$N$ sets of parameters by fitting. For each set we calculate $L$. Means, variances and standard deviations are then calculated\n",
    "using this data set. Note that the results are quite similar to those calculated using the covariance matrix; note that\n",
    "the uncertainty in $L$ automatically includes the correlations."
   ]
  },
  {
   "cell_type": "code",
   "execution_count": 14,
   "metadata": {
    "collapsed": false
   },
   "outputs": [
    {
     "name": "stdout",
     "output_type": "stream",
     "text": [
      "R 273.61199489893374 +/- 2.475950128060129\n",
      "w 5486.48662228218 +/- 5.629498926816931\n",
      "Q 4.53375638083585 +/- 0.051853189011242334\n",
      "L 0.035981703147905324 +/- 0.00019518456807547698\n"
     ]
    },
    {
     "data": {
      "image/png": "[encoded data removed]",
      "text/plain": [
       "<matplotlib.figure.Figure at 0x15125b5470>"
      ]
     },
     "metadata": {},
     "output_type": "display_data"
    }
   ],
   "source": [
    "Ndata=len(freq)\n",
    "vrel=vr/v0\n",
    "savep=[]\n",
    "for i in range(Ndata):\n",
    "    p=[R0,f0,Q]\n",
    "    indices=np.random.randint(Ndata,size=Ndata)\n",
    "    #freqB=np.take(freq,indices)\n",
    "    #vB=np.take(vrel,indices)\n",
    "    #uB=np.take(uvr,indices)\n",
    "    freqB=freq[indices]\n",
    "    vB=vrel[indices]\n",
    "    uB=uvr[indices]\n",
    "    p2,cov=curve_fit(resonance, freqB, vB, p, sigma=uB)\n",
    "    #print p2\n",
    "    savep.append(p2)\n",
    "    plt.errorbar(freqB, vB, yerr=uB, fmt='r+', label=\"Data\")\n",
    "    plt.plot(freqs, resonance(freqs,*p2), 'b-', label=\"Fit\")\n",
    "\n",
    "savep=np.array(savep)\n",
    "#print np.shape(savep)\n",
    "aL=savep[:,0]*savep[:,2]/(2.0*np.pi*savep[:,1])\n",
    "print ('R', np.mean(savep[:,0]), \"+/-\", np.std(savep[:,0],ddof=1))\n",
    "print( 'w', np.mean(savep[:,1]), \"+/-\", np.std(savep[:,1],ddof=1))\n",
    "print( 'Q', np.mean(savep[:,2]), \"+/-\", np.std(savep[:,2],ddof=1))\n",
    "print( 'L', np.mean(aL), \"+/-\", np.std(aL,ddof=1))"
   ]
  },
  {
   "cell_type": "markdown",
   "metadata": {},
   "source": [
    "More compressed version of Bootstrap:"
   ]
  },
  {
   "cell_type": "code",
   "execution_count": 16,
   "metadata": {
    "collapsed": false
   },
   "outputs": [
    {
     "name": "stdout",
     "output_type": "stream",
     "text": [
      "R 272.6617602709431 +/- 3.0810772417046803\n",
      "w 5485.843189051405 +/- 6.026622249537033\n",
      "Q 4.537492542388067 +/- 0.07048739765675661\n",
      "L 0.03588792546688133 +/- 0.00020773140666389544\n"
     ]
    },
    {
     "data": {
      "image/png": "[encoded data removed]",
      "text/plain": [
       "<matplotlib.figure.Figure at 0x15127383c8>"
      ]
     },
     "metadata": {},
     "output_type": "display_data"
    }
   ],
   "source": [
    "Ndata=len(freq)\n",
    "vrel=vr/v0\n",
    "def bootonce():\n",
    "    p=[R0,f0,Q]\n",
    "    indices=np.random.randint(Ndata,size=Ndata)\n",
    "    freqB=freq[indices]\n",
    "    vB=vrel[indices]\n",
    "    uB=uvr[indices]\n",
    "    p2,cov=curve_fit(resonance, freqB, vB, p, sigma=uB)\n",
    "    plt.errorbar(freqB, vB, yerr=uB, fmt='r+', label=\"Data\")\n",
    "    plt.plot(freqs, resonance(freqs,*p2), 'b-', label=\"Fit\")\n",
    "    return p2\n",
    "\n",
    "savep=[bootonce() for i in range(Ndata)]\n",
    "\n",
    "savep=np.array(savep)\n",
    "#print np.shape(savep)\n",
    "aL=savep[:,0]*savep[:,2]/(2.0*np.pi*savep[:,1])\n",
    "print( 'R', np.mean(savep[:,0]), \"+/-\", np.std(savep[:,0],ddof=1))\n",
    "print( 'w', np.mean(savep[:,1]), \"+/-\", np.std(savep[:,1],ddof=1))\n",
    "print( 'Q', np.mean(savep[:,2]), \"+/-\", np.std(savep[:,2],ddof=1))\n",
    "print( 'L', np.mean(aL), \"+/-\", np.std(aL,ddof=1))"
   ]
  },
  {
   "cell_type": "markdown",
   "metadata": {},
   "source": [
    "The Jacknife method\n",
    "-------------------\n",
    "\n",
    "Now try the jackknife method: create $N$ data sets of $N-1$ points by leaving out one point in each set. The means are calculated as\n",
    "usual; the variance for quantity $x$ with mean $\\bar x$ is\n",
    "$$\n",
    "\\sigma_x^2=\\frac{N-1}{N}\\sum_{i=0}^{N-1}(x_i-\\bar x)^2.\n",
    "$$"
   ]
  },
  {
   "cell_type": "code",
   "execution_count": 18,
   "metadata": {
    "collapsed": false
   },
   "outputs": [
    {
     "name": "stdout",
     "output_type": "stream",
     "text": [
      "R 273.4210256572071 +/- 2.605265385222392\n",
      "w 5486.758741154262 +/- 5.554126723214433\n",
      "Q 4.530986276833543 +/- 0.05769128570876667\n",
      "L 0.03593569299282356 +/- 0.00017923379981408123\n"
     ]
    },
    {
     "data": {
      "image/png": "[encoded data removed]",
      "text/plain": [
       "<matplotlib.figure.Figure at 0x151272e5c0>"
      ]
     },
     "metadata": {},
     "output_type": "display_data"
    }
   ],
   "source": [
    "Ndata=len(freq)\n",
    "sump=np.zeros(3)\n",
    "vrel=vr/v0\n",
    "savep=[]\n",
    "for i in range(Ndata):\n",
    "    p=[R0,f0,Q]\n",
    "    indices=list(range(0,i))+list(range(i+1,Ndata))\n",
    "    #print i,indices\n",
    "    freqB=np.take(freq,indices)\n",
    "    vB=np.take(vrel,indices)\n",
    "    uB=np.take(uvr,indices)\n",
    "    p2,cov=curve_fit(resonance, freqB, vB, p, sigma=uB)\n",
    "    #print p2\n",
    "    savep.append(p2)\n",
    "    plt.errorbar(freqB, vB, yerr=uB, fmt='r+', label=\"Data\")\n",
    "    plt.plot(freqs, resonance(freqs,*p2), 'b-', label=\"Fit\")\n",
    "\n",
    "savep=np.array(savep)\n",
    "#print Ndata, np.shape(savep)\n",
    "aL=savep[:,0]*savep[:,2]/(2.0*np.pi*savep[:,1])\n",
    "c=np.sqrt(float(Ndata-1))\n",
    "print( 'R', np.mean(savep[:,0]),\"+/-\",  c*np.std(savep[:,0]))\n",
    "print( 'w', np.mean(savep[:,1]), \"+/-\", c*np.std(savep[:,1]))\n",
    "print( 'Q', np.mean(savep[:,2]), \"+/-\", c*np.std(savep[:,2]))\n",
    "print( 'L', np.mean(aL), \"+/-\", c*np.std(aL))\n",
    "#print savep[:,0]"
   ]
  },
  {
   "cell_type": "markdown",
   "metadata": {},
   "source": [
    "---\n",
    "\n",
    "Other methods\n",
    "-------------\n",
    "\n",
    "An alternate routine, `lmfit`, can enable us to get Bayesian estimates of the parameters distributions. This is explored in another notebook.\n",
    "\n",
    "References\n",
    "----------\n",
    "\n",
    "Numerical Recipes, *Press, Teukolsky, Vetterling, Flannery*, Cambridge University Press."
   ]
  },
  {
   "cell_type": "code",
   "execution_count": null,
   "metadata": {
    "collapsed": false
   },
   "outputs": [],
   "source": []
  }
 ],
 "metadata": {
  "kernelspec": {
   "display_name": "Python 3",
   "language": "python",
   "name": "python3"
  },
  "language_info": {
   "codemirror_mode": {
    "name": "ipython",
    "version": 3
   },
   "file_extension": ".py",
   "mimetype": "text/x-python",
   "name": "python",
   "nbconvert_exporter": "python",
   "pygments_lexer": "ipython3",
   "version": "3.6.4"
  }
 },
 "nbformat": 4,
 "nbformat_minor": 2
}
